{
 "cells": [
  {
   "cell_type": "code",
   "execution_count": 1,
   "id": "2047105a-45bf-4e9e-8320-6e2ee2347a21",
   "metadata": {},
   "outputs": [
    {
     "name": "stderr",
     "output_type": "stream",
     "text": [
      "hello"
     ]
    }
   ],
   "source": [
    "print(\"hello\")"
   ]
  },
  {
   "cell_type": "code",
   "execution_count": 2,
   "id": "f2a5398c-d17c-4ee0-85bb-95f63d59d9b5",
   "metadata": {},
   "outputs": [
    {
     "ename": "ERROR",
     "evalue": "repl.go:1:1: undefined \"fmt\" in fmt.print <*ast.SelectorExpr>",
     "output_type": "error",
     "traceback": [
      "repl.go:1:1: undefined \"fmt\" in fmt.print <*ast.SelectorExpr>"
     ]
    }
   ],
   "source": [
    "fmt.print(\"Hello\")"
   ]
  },
  {
   "cell_type": "code",
   "execution_count": 3,
   "id": "bf2242b9-a7e1-4072-a7f5-dbf9781d2390",
   "metadata": {},
   "outputs": [
    {
     "ename": "ERROR",
     "evalue": "repl.go:1:1: undefined \"runtime\" in runtime.Version <*ast.SelectorExpr>",
     "output_type": "error",
     "traceback": [
      "repl.go:1:1: undefined \"runtime\" in runtime.Version <*ast.SelectorExpr>"
     ]
    }
   ],
   "source": [
    "runtime.Version()"
   ]
  },
  {
   "cell_type": "code",
   "execution_count": 4,
   "id": "65746778-1825-4d7b-b694-367d8bdc697c",
   "metadata": {},
   "outputs": [],
   "source": [
    "import (\n",
    "    \"fmt\"\n",
    "    \"runtime\"\n",
    ")"
   ]
  },
  {
   "cell_type": "code",
   "execution_count": 5,
   "id": "43bf1f65-4402-42c4-a72b-09a619461644",
   "metadata": {},
   "outputs": [
    {
     "data": {
      "text/plain": [
       "go1.19.5"
      ]
     },
     "execution_count": 5,
     "metadata": {},
     "output_type": "execute_result"
    }
   ],
   "source": [
    "runtime.Version()"
   ]
  },
  {
   "cell_type": "code",
   "execution_count": 6,
   "id": "2c58ca47-8f43-424d-bcea-280ec20f403f",
   "metadata": {},
   "outputs": [
    {
     "name": "stdout",
     "output_type": "stream",
     "text": [
      "go1.19.5\n"
     ]
    },
    {
     "data": {
      "text/plain": [
       "9 <nil>"
      ]
     },
     "execution_count": 6,
     "metadata": {},
     "output_type": "execute_result"
    }
   ],
   "source": [
    "fmt.Println(runtime.Version())"
   ]
  },
  {
   "cell_type": "code",
   "execution_count": 7,
   "id": "154b60c1-e5c5-4c82-9526-afad2fc47fa7",
   "metadata": {},
   "outputs": [
    {
     "ename": "ERROR",
     "evalue": "repl.go:1:1: undefined \"math\" in math.Sqrt <*ast.SelectorExpr>",
     "output_type": "error",
     "traceback": [
      "repl.go:1:1: undefined \"math\" in math.Sqrt <*ast.SelectorExpr>"
     ]
    }
   ],
   "source": [
    "math.Sqrt(4)"
   ]
  },
  {
   "cell_type": "code",
   "execution_count": 8,
   "id": "35e48369-e581-4ddd-bbdb-37fb8aad596d",
   "metadata": {},
   "outputs": [
    {
     "data": {
      "text/plain": [
       "2"
      ]
     },
     "execution_count": 8,
     "metadata": {},
     "output_type": "execute_result"
    }
   ],
   "source": [
    "import \"math\"\n",
    "math.Sqrt(4)"
   ]
  },
  {
   "cell_type": "code",
   "execution_count": null,
   "id": "5cd5e3b8-7167-40b8-a1ee-65281f19e4e7",
   "metadata": {},
   "outputs": [],
   "source": []
  }
 ],
 "metadata": {
  "kernelspec": {
   "display_name": "Go",
   "language": "go",
   "name": "gophernotes"
  },
  "language_info": {
   "codemirror_mode": "",
   "file_extension": ".go",
   "mimetype": "",
   "name": "go",
   "nbconvert_exporter": "",
   "pygments_lexer": "",
   "version": "go1.19.5"
  }
 },
 "nbformat": 4,
 "nbformat_minor": 5
}
